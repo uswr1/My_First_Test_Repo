{
  "nbformat": 4,
  "nbformat_minor": 0,
  "metadata": {
    "colab": {
      "provenance": [],
      "include_colab_link": true
    },
    "kernelspec": {
      "name": "python3",
      "display_name": "Python 3"
    },
    "language_info": {
      "name": "python"
    }
  },
  "cells": [
    {
      "cell_type": "markdown",
      "metadata": {
        "id": "view-in-github",
        "colab_type": "text"
      },
      "source": [
        "<a href=\"https://colab.research.google.com/github/uswr1/My_First_Test_Repo/blob/main/Markdown2_0.ipynb\" target=\"_parent\"><img src=\"https://colab.research.google.com/assets/colab-badge.svg\" alt=\"Open In Colab\"/></a>"
      ]
    },
    {
      "cell_type": "markdown",
      "source": [],
      "metadata": {
        "id": "VCHm58N3vREz"
      }
    },
    {
      "cell_type": "code",
      "source": [],
      "metadata": {
        "id": "oPsZcwyVvlM1"
      },
      "execution_count": null,
      "outputs": []
    },
    {
      "cell_type": "markdown",
      "source": [
        "\n",
        "\n",
        "```\n",
        "# Выбран кодовый формат\n",
        "```\n",
        "\n",
        "Типы электростанций\n",
        "1.   АЭС\n",
        "2.   ТЭС\n",
        "3.   ГЭС\n",
        "4. ГеоЭС\n",
        "\n",
        "\n",
        "---\n",
        "\n",
        "\n",
        "\n",
        "\n",
        "\n",
        "\n",
        "![car](https://www.ixbt.com/img/n1/news/2023/3/2/it-4YkUkw-1681753319%20copy_large.jpg)\n",
        "\n",
        "---\n",
        "\n",
        "\n",
        "\n",
        "\n",
        "[ссылка](https://www.porsche.com/central-eastern-europe/ru/models/cayenne/cayenne-models/cayenne/)\n",
        "\n",
        "\n",
        "---\n",
        "\n",
        "вид |количество| размер\n",
        ":----|:---------|--------:\n",
        "карась|234563|25\n",
        "акула|2244|345\n",
        "окунь|11568|39\n",
        "\n"
      ],
      "metadata": {
        "id": "8UsY5e0WwJks"
      }
    }
  ]
}